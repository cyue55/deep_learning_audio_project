{
 "cells": [
  {
   "cell_type": "code",
   "execution_count": 1,
   "metadata": {},
   "outputs": [],
   "source": [
    "import torch\n",
    "from torch import nn\n",
    "from hifiplusplus_discriminator import MultiPeriodDiscriminator, MultiScaleDiscriminator, discriminator_loss, generator_loss, feature_loss"
   ]
  },
  {
   "cell_type": "code",
   "execution_count": 43,
   "metadata": {},
   "outputs": [],
   "source": [
    "msd = MultiScaleDiscriminator()\n",
    "mpd = MultiPeriodDiscriminator()"
   ]
  },
  {
   "cell_type": "code",
   "execution_count": 53,
   "metadata": {},
   "outputs": [],
   "source": [
    "batch_size = 1\n",
    "n_channels = 1\n",
    "seq_len = 256\n",
    "y = torch.randn(batch_size, n_channels, seq_len)\n",
    "y_hat = y + 0.1 * torch.randn(batch_size, n_channels, seq_len)"
   ]
  },
  {
   "cell_type": "code",
   "execution_count": 62,
   "metadata": {},
   "outputs": [
    {
     "name": "stdout",
     "output_type": "stream",
     "text": [
      "Feature Loss:\n",
      "tensor(0.2055)\n",
      "Discriminator Loss:\n",
      "tensor(3.0493)\n",
      "[0.9775981903076172, 1.038358449935913, 1.0326192378997803]\n",
      "[0.00012745356070809066, 0.00036814407212659717, 0.00026240129955112934]\n",
      "Generator Loss:\n",
      "tensor(3.0486)\n",
      "[tensor(0.9776), tensor(1.0384), tensor(1.0326)]\n"
     ]
    }
   ],
   "source": [
    "with torch.no_grad():\n",
    "    y_d_rs, y_d_gs, fmap_rs, fmap_gs = msd(y, y_hat)\n",
    "    print(\"Feature Loss:\")\n",
    "    print(feature_loss(fmap_g=fmap_gs, fmap_r=fmap_rs))\n",
    "    loss, r_losses, g_losses = discriminator_loss(y_d_rs, y_d_gs)\n",
    "    print(\"Discriminator Loss:\")\n",
    "    print(loss); print(r_losses); print(g_losses)\n",
    "    loss, gen_losses = generator_loss(y_d_gs)\n",
    "    print(\"Generator Loss:\")\n",
    "    print(loss); print(gen_losses)"
   ]
  },
  {
   "cell_type": "code",
   "execution_count": 61,
   "metadata": {},
   "outputs": [
    {
     "name": "stdout",
     "output_type": "stream",
     "text": [
      "Feature Loss:\n",
      "tensor(0.3789)\n",
      "Discriminator Loss:\n",
      "tensor(5.0161)\n",
      "[0.9814179539680481, 1.025597095489502, 0.9957698583602905, 1.0107202529907227, 1.0023328065872192]\n",
      "[8.942284330260009e-05, 0.0001616219087736681, 4.8109818635566626e-06, 2.9138729587430134e-05, 1.4495840332529042e-06]\n",
      "Generator Loss:\n",
      "tensor(5.0159)\n",
      "[tensor(0.9815), tensor(1.0255), tensor(0.9958), tensor(1.0108), tensor(1.0023)]\n"
     ]
    }
   ],
   "source": [
    "with torch.no_grad():\n",
    "    y_d_rs, y_d_gs, fmap_rs, fmap_gs = mpd(y, y_hat)\n",
    "    print(\"Feature Loss:\")\n",
    "    print(feature_loss(fmap_g=fmap_gs, fmap_r=fmap_rs))\n",
    "    loss, r_losses, g_losses = discriminator_loss(y_d_rs, y_d_gs)\n",
    "    print(\"Discriminator Loss:\")\n",
    "    print(loss); print(r_losses); print(g_losses)\n",
    "    loss, gen_losses = generator_loss(y_d_gs)\n",
    "    print(\"Generator Loss:\")\n",
    "    print(loss); print(gen_losses)"
   ]
  }
 ],
 "metadata": {
  "kernelspec": {
   "display_name": "Python 3",
   "language": "python",
   "name": "python3"
  },
  "language_info": {
   "codemirror_mode": {
    "name": "ipython",
    "version": 3
   },
   "file_extension": ".py",
   "mimetype": "text/x-python",
   "name": "python",
   "nbconvert_exporter": "python",
   "pygments_lexer": "ipython3",
   "version": "3.11.6"
  }
 },
 "nbformat": 4,
 "nbformat_minor": 2
}
